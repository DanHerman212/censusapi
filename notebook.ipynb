{
 "cells": [
  {
   "cell_type": "markdown",
   "metadata": {},
   "source": [
    "# Common ACS Variable Annotation\n",
    "<br>\n",
    "\n",
    "![acs_variable](images/acs_variable.png)"
   ]
  },
  {
   "cell_type": "markdown",
   "metadata": {},
   "source": [
    "# Data Products\n",
    "<br>\n",
    "\n",
    "![data_products](images/dataproducts.png)\n",
    "\n",
    "<br>"
   ]
  },
  {
   "cell_type": "markdown",
   "metadata": {},
   "source": [
    "Detailed Tables - Designed for advanced data users or those who want access to the most comprehensive ACS tables.  All other ACS products are built from these tables and are the only available tables at the block group level.<br><br>\n",
    "\n",
    "Data profiles - Generally a good place to start with ACS as they contain the most frequently requested social, economic, housing and demographic data.  Each subject area is a separate profile.  The data profiles summarize the data for a single geographic area to cover estimates and percentages on the most basic ACS topics.<br><br>\n",
    "\n",
    "Comparison profiles - Are similar to data profiles except they compare this information over time.  Five year comparison profiles show data side by side from two different years, indicating where there's a statisticly significant difference between the two sets of estimates.<br><br>\n",
    "\n",
    "Selected population profiles - Provide detailed race and ethnicity data.  Summary tables separately over 100 detailed ethnic, racial and tribal groups.  Only available for 1 year estimates.  Use pop group predicate.<br><br>\n",
    "\n",
    "Subject Tables - For data users interested in a particular topic, such as employment, education and income, may wish to start with the subject tables.  Provide pretabulated estimates and percentages for a wide variety of topics.  Often available by age, sex or race and ethnicity."
   ]
  },
  {
   "cell_type": "markdown",
   "metadata": {},
   "source": [
    "# example query  \n",
    "median household income with margin of error for all states, 2014 - 2018 ACS 5-year estimates <br>\n",
    "## https://api.census.gov/data/2018/acs/acs5/?get=NAME,B19013_001E,B19013_001M&for=state:*"
   ]
  },
  {
   "cell_type": "markdown",
   "metadata": {},
   "source": [
    "# Manual URL retrieval"
   ]
  },
  {
   "cell_type": "code",
   "execution_count": 1,
   "metadata": {},
   "outputs": [
    {
     "name": "stdout",
     "output_type": "stream",
     "text": [
      "Request successful!\n",
      "\n",
      "Data successfully written to census_data.csv\n",
      "File census_data.csv created successfully.\n"
     ]
    }
   ],
   "source": [
    "from manual_url_fetch_census import manual_url_fetch_census, json_to_csv\n",
    "import os\n",
    "\n",
    "# manual url retrieval\n",
    "url = \"https://api.census.gov/data/2018/acs/acs5/subject?get=NAME,group(S1501)&for=us:*&key=dfda23551f004bbb2f7014e2335573bd023c6cf8\"\n",
    "\n",
    "# Fetch the data\n",
    "json_data = manual_url_fetch_census(url)\n",
    "# Check if data was fetched successfully\n",
    "if json_data:\n",
    "    # Convert JSON data to CSV\n",
    "    output_file = \"census_data.csv\"\n",
    "    json_to_csv(json_data, output_file)\n",
    "else:\n",
    "    print(\"Failed to fetch data.\")\n",
    "# Check if the file was created successfully\n",
    "if os.path.exists(output_file):\n",
    "    print(f\"File {output_file} created successfully.\")"
   ]
  },
  {
   "cell_type": "code",
   "execution_count": 2,
   "metadata": {},
   "outputs": [
    {
     "data": {
      "text/html": [
       "<div>\n",
       "<style scoped>\n",
       "    .dataframe tbody tr th:only-of-type {\n",
       "        vertical-align: middle;\n",
       "    }\n",
       "\n",
       "    .dataframe tbody tr th {\n",
       "        vertical-align: top;\n",
       "    }\n",
       "\n",
       "    .dataframe thead th {\n",
       "        text-align: right;\n",
       "    }\n",
       "</style>\n",
       "<table border=\"1\" class=\"dataframe\">\n",
       "  <thead>\n",
       "    <tr style=\"text-align: right;\">\n",
       "      <th></th>\n",
       "      <th>0</th>\n",
       "    </tr>\n",
       "  </thead>\n",
       "  <tbody>\n",
       "    <tr>\n",
       "      <th>NAME</th>\n",
       "      <td>United States</td>\n",
       "    </tr>\n",
       "    <tr>\n",
       "      <th>GEO_ID</th>\n",
       "      <td>0100000US</td>\n",
       "    </tr>\n",
       "    <tr>\n",
       "      <th>NAME.1</th>\n",
       "      <td>United States</td>\n",
       "    </tr>\n",
       "    <tr>\n",
       "      <th>S1501_C01_001E</th>\n",
       "      <td>30903719</td>\n",
       "    </tr>\n",
       "    <tr>\n",
       "      <th>S1501_C01_001EA</th>\n",
       "      <td>NaN</td>\n",
       "    </tr>\n",
       "    <tr>\n",
       "      <th>...</th>\n",
       "      <td>...</td>\n",
       "    </tr>\n",
       "    <tr>\n",
       "      <th>S1501_C06_064E</th>\n",
       "      <td>-888888888.0</td>\n",
       "    </tr>\n",
       "    <tr>\n",
       "      <th>S1501_C06_064EA</th>\n",
       "      <td>(X)</td>\n",
       "    </tr>\n",
       "    <tr>\n",
       "      <th>S1501_C06_064M</th>\n",
       "      <td>-888888888.0</td>\n",
       "    </tr>\n",
       "    <tr>\n",
       "      <th>S1501_C06_064MA</th>\n",
       "      <td>(X)</td>\n",
       "    </tr>\n",
       "    <tr>\n",
       "      <th>us</th>\n",
       "      <td>1</td>\n",
       "    </tr>\n",
       "  </tbody>\n",
       "</table>\n",
       "<p>1540 rows × 1 columns</p>\n",
       "</div>"
      ],
      "text/plain": [
       "                             0\n",
       "NAME             United States\n",
       "GEO_ID               0100000US\n",
       "NAME.1           United States\n",
       "S1501_C01_001E        30903719\n",
       "S1501_C01_001EA            NaN\n",
       "...                        ...\n",
       "S1501_C06_064E    -888888888.0\n",
       "S1501_C06_064EA            (X)\n",
       "S1501_C06_064M    -888888888.0\n",
       "S1501_C06_064MA            (X)\n",
       "us                           1\n",
       "\n",
       "[1540 rows x 1 columns]"
      ]
     },
     "execution_count": 2,
     "metadata": {},
     "output_type": "execute_result"
    }
   ],
   "source": [
    "import pandas as pd\n",
    "\n",
    "# Read the CSV file\n",
    "df = pd.read_csv(output_file)\n",
    "# Display the first few rows of the DataFrame\n",
    "df.head().T\n"
   ]
  },
  {
   "cell_type": "markdown",
   "metadata": {},
   "source": [
    "## Reusable Function for Common API requests"
   ]
  },
  {
   "cell_type": "code",
   "execution_count": 3,
   "metadata": {},
   "outputs": [],
   "source": [
    "# import python modules for reusable api queries\n",
    "from ingest_census import fetch_census_data, transform_json_to_csv\n",
    "import os\n"
   ]
  },
  {
   "cell_type": "code",
   "execution_count": 4,
   "metadata": {},
   "outputs": [
    {
     "name": "stdout",
     "output_type": "stream",
     "text": [
      "Sending request to: https://api.census.gov/data/2023/acs/acs5?get=NAME,B19013_001E&for=county:005,047,061,081,085&in=state:36&key=dfda23551f004bbb2f7014e2335573bd023c6cf8\n",
      "Request successful!\n",
      "\n",
      "[['NAME', 'B19013_001E', 'state', 'county'], ['Bronx County, New York', '49036', '36', '005'], ['Kings County, New York', '78548', '36', '047'], ['New York County, New York', '104553', '36', '061'], ['Queens County, New York', '84961', '36', '081'], ['Richmond County, New York', '98290', '36', '085']]\n"
     ]
    }
   ],
   "source": [
    "# set constants then run function\n",
    "\n",
    "year = '2023' \n",
    "\n",
    "dataset = 'acs/acs5' \n",
    "\n",
    "variables = [\"NAME\",\"B19013_001E\"]  # median household income\n",
    "\n",
    "#geo = \"&for=us:*\"\n",
    "# nyc_counties \"005\", \"047\", \"061\", \"081\", \"085\"\n",
    "geo = \"&for=county:005,047,061,081,085&in=state:36\"  # all counties in NY state (36)\n",
    "\n",
    "api_key = os.environ[\"api_key\"]\n",
    "\n",
    "# fetch the data\n",
    "data = fetch_census_data(year, dataset, variables, geo, api_key)\n",
    "\n",
    "print(data)"
   ]
  },
  {
   "cell_type": "code",
   "execution_count": 5,
   "metadata": {},
   "outputs": [
    {
     "name": "stdout",
     "output_type": "stream",
     "text": [
      "Data successfully saved to census_data.csv\n"
     ]
    }
   ],
   "source": [
    "# transform the data to CSV\n",
    "output_file = \"census_data.csv\"\n",
    "transform_json_to_csv(data, output_file)\n"
   ]
  },
  {
   "cell_type": "code",
   "execution_count": 6,
   "metadata": {},
   "outputs": [
    {
     "data": {
      "text/html": [
       "<div>\n",
       "<style scoped>\n",
       "    .dataframe tbody tr th:only-of-type {\n",
       "        vertical-align: middle;\n",
       "    }\n",
       "\n",
       "    .dataframe tbody tr th {\n",
       "        vertical-align: top;\n",
       "    }\n",
       "\n",
       "    .dataframe thead th {\n",
       "        text-align: right;\n",
       "    }\n",
       "</style>\n",
       "<table border=\"1\" class=\"dataframe\">\n",
       "  <thead>\n",
       "    <tr style=\"text-align: right;\">\n",
       "      <th></th>\n",
       "      <th>NAME</th>\n",
       "      <th>B19013_001E</th>\n",
       "      <th>state</th>\n",
       "      <th>county</th>\n",
       "    </tr>\n",
       "  </thead>\n",
       "  <tbody>\n",
       "    <tr>\n",
       "      <th>0</th>\n",
       "      <td>Bronx County, New York</td>\n",
       "      <td>49036</td>\n",
       "      <td>36</td>\n",
       "      <td>5</td>\n",
       "    </tr>\n",
       "    <tr>\n",
       "      <th>1</th>\n",
       "      <td>Kings County, New York</td>\n",
       "      <td>78548</td>\n",
       "      <td>36</td>\n",
       "      <td>47</td>\n",
       "    </tr>\n",
       "    <tr>\n",
       "      <th>2</th>\n",
       "      <td>New York County, New York</td>\n",
       "      <td>104553</td>\n",
       "      <td>36</td>\n",
       "      <td>61</td>\n",
       "    </tr>\n",
       "    <tr>\n",
       "      <th>3</th>\n",
       "      <td>Queens County, New York</td>\n",
       "      <td>84961</td>\n",
       "      <td>36</td>\n",
       "      <td>81</td>\n",
       "    </tr>\n",
       "    <tr>\n",
       "      <th>4</th>\n",
       "      <td>Richmond County, New York</td>\n",
       "      <td>98290</td>\n",
       "      <td>36</td>\n",
       "      <td>85</td>\n",
       "    </tr>\n",
       "  </tbody>\n",
       "</table>\n",
       "</div>"
      ],
      "text/plain": [
       "                        NAME  B19013_001E  state  county\n",
       "0     Bronx County, New York        49036     36       5\n",
       "1     Kings County, New York        78548     36      47\n",
       "2  New York County, New York       104553     36      61\n",
       "3    Queens County, New York        84961     36      81\n",
       "4  Richmond County, New York        98290     36      85"
      ]
     },
     "execution_count": 6,
     "metadata": {},
     "output_type": "execute_result"
    }
   ],
   "source": [
    "import pandas as pd\n",
    "# Read the CSV file\n",
    "df = pd.read_csv(output_file)\n",
    "\n",
    "df"
   ]
  },
  {
   "cell_type": "code",
   "execution_count": 7,
   "metadata": {},
   "outputs": [
    {
     "name": "stderr",
     "output_type": "stream",
     "text": [
      "/var/folders/f1/dmgdbt5j5nb5ht5_vfxmr8gm0000gn/T/ipykernel_36447/3001380831.py:13: FutureWarning: \n",
      "\n",
      "Passing `palette` without assigning `hue` is deprecated and will be removed in v0.14.0. Assign the `y` variable to `hue` and set `legend=False` for the same effect.\n",
      "\n",
      "  sns.barplot(x='median household income', y='NAME', data=df, palette=\"viridis\")\n"
     ]
    },
    {
     "data": {
      "image/png": "[encoded data removed]",
      "text/plain": [
       "<Figure size 1000x600 with 1 Axes>"
      ]
     },
     "metadata": {},
     "output_type": "display_data"
    }
   ],
   "source": [
    "# rename column 1 'median household income'\n",
    "df.rename(columns={df.columns[1]: 'median household income'}, inplace=True)\n",
    "\n",
    "# plot the data\n",
    "import matplotlib.pyplot as plt\n",
    "import seaborn as sns\n",
    "\n",
    "# set the style\n",
    "sns.set(style=\"whitegrid\")\n",
    "plt.figure(figsize=(10, 6))\n",
    "\n",
    "# create a bar plot\n",
    "sns.barplot(x='median household income', y='NAME', data=df, palette=\"viridis\")\n",
    "\n",
    "# set the title and labels\n",
    "plt.title('Median Household Income by County in NY (2018)', fontsize=16)\n",
    "plt.xlabel('Median Household Income', fontsize=14)\n",
    "plt.ylabel('County', fontsize=14)\n",
    "plt.show()"
   ]
  },
  {
   "cell_type": "markdown",
   "metadata": {},
   "source": [
    "## Use Case"
   ]
  },
  {
   "cell_type": "markdown",
   "metadata": {},
   "source": [
    "1.  ACS 5 Year data - 5 year data allows to drill down to granular levels of geography<br><br>\n",
    "2.  Once we are on the 5 year page, we can find documentation for detailed \n",
    "tables by using the discovery tool<br><br>\n",
    "Shows all options for 2014 - 2018 ACS 5 year<br><br>\n",
    "3.  The two most useful columns to start with are `Variable List` and `Examples`\n",
    "<br><br>\n",
    "4.  Go to the examples page: here we can see a sample query for each level of geography available for that year and dataset<br><br>\n",
    "\n",
    "5.  Go to variables page and use text search to find topics like `median household income`<br><br>\n",
    "6. Table ID = B19013A_001`E` <br>\n",
    "Notice characte after table id, these are race iterated tables<br>\n",
    "If you're looking for median household income for a race category, this is where you can look<br>\n",
    "\n"
   ]
  }
 ],
 "metadata": {
  "kernelspec": {
   "display_name": "dev",
   "language": "python",
   "name": "python3"
  },
  "language_info": {
   "codemirror_mode": {
    "name": "ipython",
    "version": 3
   },
   "file_extension": ".py",
   "mimetype": "text/x-python",
   "name": "python",
   "nbconvert_exporter": "python",
   "pygments_lexer": "ipython3",
   "version": "3.11.8"
  }
 },
 "nbformat": 4,
 "nbformat_minor": 4
}
